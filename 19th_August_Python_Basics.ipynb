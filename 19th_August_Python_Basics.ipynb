{
 "cells": [
  {
   "cell_type": "code",
   "execution_count": 1,
   "id": "731cd627-5b24-40ad-83b7-c29576c57d11",
   "metadata": {},
   "outputs": [
    {
     "name": "stdout",
     "output_type": "stream",
     "text": [
      "After swapping:\n",
      "x = 10\n",
      "y = 5\n"
     ]
    }
   ],
   "source": [
    "#Topic: Python Basics Variable\n",
    "\n",
    "#1. # Declaring and initializing variables\n",
    "\n",
    "x = 5\n",
    "y = 10\n",
    "\n",
    "# Swapping values without using a temporary variable\n",
    "# Step 1: Adding x and y, and here new value of x will be stored as a result\n",
    "\n",
    "x = x + y\n",
    "\n",
    "# Step 2: Subtracting the original value of y (now stored in x) from the sum to get the original value of x, and store it in y\n",
    "\n",
    "y = x - y\n",
    "\n",
    "# Step 3: Subtracting the original value of x (now stored in y) from the sum to get the original value of y, and store it in x\n",
    "\n",
    "x = x - y\n",
    "\n",
    "# Printing the swapped values\n",
    "print(\"After swapping:\")\n",
    "print(\"x =\", x)\n",
    "print(\"y =\", y)"
   ]
  },
  {
   "cell_type": "code",
   "execution_count": 2,
   "id": "26abed93-909b-4230-b09c-e2237ca331c7",
   "metadata": {},
   "outputs": [
    {
     "name": "stdin",
     "output_type": "stream",
     "text": [
      "Enter the length of the rectangle:  25\n",
      "Enter the width of the rectangle:  12\n"
     ]
    },
    {
     "name": "stdout",
     "output_type": "stream",
     "text": [
      "The area of the rectangle is:  300\n"
     ]
    }
   ],
   "source": [
    "#2. #Taking the inputs from a user\n",
    "\n",
    "length = int(input('Enter the length of the rectangle: '))\n",
    "width = int(input('Enter the width of the rectangle: '))\n",
    "\n",
    "#Taking one variable where we will store the area\n",
    "\n",
    "area = length * width\n",
    "\n",
    "#Displaying the result to the user\n",
    "\n",
    "print('The area of the rectangle is: ', area)"
   ]
  },
  {
   "cell_type": "code",
   "execution_count": 4,
   "id": "4c820bc0-46e7-44c7-a33c-ecea71d85b33",
   "metadata": {},
   "outputs": [
    {
     "name": "stdin",
     "output_type": "stream",
     "text": [
      "Enter temperature in Celsius:  37\n"
     ]
    },
    {
     "name": "stdout",
     "output_type": "stream",
     "text": [
      "37.0 degrees Celsius is equal to 98.6 degrees Fahrenheit.\n"
     ]
    }
   ],
   "source": [
    "#3. # Take the input of temperature in Celsius\n",
    "celsius = float(input(\"Enter temperature in Celsius: \"))\n",
    "\n",
    "# Converting Celsius to Fahrenheit using the formula\n",
    "fahrenheit = (celsius * 9/5) + 32\n",
    "\n",
    "# Displaying the result\n",
    "print( celsius, 'degrees Celsius is equal to', fahrenheit, 'degrees Fahrenheit.')"
   ]
  },
  {
   "cell_type": "code",
   "execution_count": 6,
   "id": "72efc196-6ee5-4c41-8668-9ac674bcf6a2",
   "metadata": {},
   "outputs": [
    {
     "name": "stdin",
     "output_type": "stream",
     "text": [
      "Please enter the word:  Jaydeb\n"
     ]
    },
    {
     "name": "stdout",
     "output_type": "stream",
     "text": [
      "The length of the word you entered is:  6\n"
     ]
    }
   ],
   "source": [
    "#Topic: String Based Questions\n",
    "\n",
    "#1. Taking string as a input from the user\n",
    "\n",
    "string = input('Please enter the word: ')\n",
    "\n",
    "#Calculating and displaying the length of the string to the user\n",
    "\n",
    "print('The length of the word you entered is: ', len(string))"
   ]
  },
  {
   "cell_type": "code",
   "execution_count": 8,
   "id": "5aa6c24a-010a-4031-9d91-f42fbcf6e71b",
   "metadata": {},
   "outputs": [
    {
     "name": "stdin",
     "output_type": "stream",
     "text": [
      "Please enter the word:  Hibiscus\n"
     ]
    },
    {
     "name": "stdout",
     "output_type": "stream",
     "text": [
      "The number of vowels in the word is: 3\n"
     ]
    }
   ],
   "source": [
    "#2. Taking the input from the user\n",
    "\n",
    "string = input('Please enter the word: ')\n",
    "\n",
    "#Here we will make a list of vowels and take one variable count\n",
    "\n",
    "vowels = ['a','e','i','o','u']\n",
    "count = 0\n",
    "\n",
    "#We will use for loop and conditional statements to check how many vowels are present in the word\n",
    "\n",
    "for i in string:\n",
    "    if i in vowels:\n",
    "        count = count + 1\n",
    "\n",
    "#Displaying the number of vowels present in the word the user entered\n",
    "print('The number of vowels in the word is:', count)"
   ]
  },
  {
   "cell_type": "code",
   "execution_count": 9,
   "id": "fa18f982-243a-4407-a18f-f44d980e2319",
   "metadata": {},
   "outputs": [
    {
     "name": "stdin",
     "output_type": "stream",
     "text": [
      "Please enter the word:  PWSKILLS\n"
     ]
    },
    {
     "name": "stdout",
     "output_type": "stream",
     "text": [
      "The reveresed order of the word is: SLLIKSWP\n"
     ]
    }
   ],
   "source": [
    "#3. Taking the input from the user\n",
    "\n",
    "string = input('Please enter the word: ')\n",
    "\n",
    "#Here we will reverse the word by taking one new variable\n",
    "\n",
    "new_string = string[::-1]\n",
    "\n",
    "#Displaying the reversed string to the user\n",
    "\n",
    "print('The reveresed order of the word is:', new_string)"
   ]
  },
  {
   "cell_type": "code",
   "execution_count": 12,
   "id": "a7dfb4fd-8351-4416-a03d-ef3acb0218db",
   "metadata": {},
   "outputs": [
    {
     "name": "stdin",
     "output_type": "stream",
     "text": [
      "Please enter the word:  level\n"
     ]
    },
    {
     "name": "stdout",
     "output_type": "stream",
     "text": [
      "It is a Palindrome\n"
     ]
    }
   ],
   "source": [
    "#4. Taking the input from the user\n",
    "\n",
    "string = input('Please enter the word: ')\n",
    "\n",
    "#We will reverse the word by taking a new variable\n",
    "\n",
    "rev_string = string[::-1]\n",
    "\n",
    "#We will check whether the string is Palindrome or not and display it to the user\n",
    "\n",
    "if string == rev_string:\n",
    "    print('It is a Palindrome')\n",
    "else:\n",
    "    print('It is not a Palindrome')"
   ]
  },
  {
   "cell_type": "code",
   "execution_count": 13,
   "id": "0621bb22-905b-4d63-86e8-821f8649b186",
   "metadata": {},
   "outputs": [
    {
     "name": "stdin",
     "output_type": "stream",
     "text": [
      "Enter a word:  Hey welcome to the class\n"
     ]
    },
    {
     "name": "stdout",
     "output_type": "stream",
     "text": [
      "Modified string without spaces: Heywelcometotheclass\n"
     ]
    }
   ],
   "source": [
    "#5. # Taking the input string from the user\n",
    "\n",
    "string = input(\"Enter a word: \")\n",
    "\n",
    "# Removing spaces from the input string using the replace method\n",
    "\n",
    "modified_string = string.replace(\" \", \"\")\n",
    "\n",
    "# Displaying the modified string without spaces\n",
    "\n",
    "print(\"Modified string without spaces:\", modified_string)"
   ]
  },
  {
   "cell_type": "code",
   "execution_count": null,
   "id": "062c0fed-3262-426f-b8b9-c5a2ca58bdf3",
   "metadata": {},
   "outputs": [],
   "source": []
  }
 ],
 "metadata": {
  "kernelspec": {
   "display_name": "Python 3 (ipykernel)",
   "language": "python",
   "name": "python3"
  },
  "language_info": {
   "codemirror_mode": {
    "name": "ipython",
    "version": 3
   },
   "file_extension": ".py",
   "mimetype": "text/x-python",
   "name": "python",
   "nbconvert_exporter": "python",
   "pygments_lexer": "ipython3",
   "version": "3.10.8"
  }
 },
 "nbformat": 4,
 "nbformat_minor": 5
}
